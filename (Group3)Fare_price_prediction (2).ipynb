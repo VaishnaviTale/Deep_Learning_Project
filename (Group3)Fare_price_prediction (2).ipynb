{
  "cells": [
    {
      "cell_type": "markdown",
      "source": [
        "<p><h1><b><font color=\"DarkBlue\">Group 3</p>"
      ],
      "metadata": {
        "id": "2VQJ0CRNZtOl"
      }
    },
    {
      "cell_type": "markdown",
      "metadata": {
        "id": "c2lDo308M4Ay"
      },
      "source": [
        "<p><h1><b><font color = 'DarkBlue'> Problem Statment </font></b></h1></p>\n",
        "<p> The project is about on world's largest taxi company In this project, we're looking to predict the fare for their future transactional cases. The company delivers service to lakhs of customers daily.Now it becomes really important to manage their data properly to come up with new business ideas to get best results Eventually, it becomes really important to estimate the fare prices accurately.</p>\n",
        "\n"
      ]
    },
    {
      "cell_type": "code",
      "execution_count": 1,
      "metadata": {
        "colab": {
          "base_uri": "https://localhost:8080/"
        },
        "id": "67psqJH-hzqI",
        "outputId": "64f88dab-2cf5-4dd0-81db-25ae70e60cfa"
      },
      "outputs": [
        {
          "output_type": "stream",
          "name": "stdout",
          "text": [
            "Colab only includes TensorFlow 2.x; %tensorflow_version has no effect.\n"
          ]
        }
      ],
      "source": [
        "import pandas as pd \n",
        "import numpy as np\n",
        "import matplotlib.pyplot as plt\n",
        "%matplotlib inline\n",
        "from mpl_toolkits import mplot3d\n",
        "import seaborn as sns\n",
        "\n",
        "import math\n",
        "from math import sqrt\n",
        "\n",
        "from numpy import absolute\n",
        "from numpy import mean\n",
        "from numpy import std\n",
        "\n",
        "from sklearn.preprocessing import scale\n",
        "from sklearn.model_selection import train_test_split\n",
        "from sklearn.metrics import mean_squared_error, r2_score\n",
        "from sklearn.model_selection import cross_val_score\n",
        "from sklearn.preprocessing import MinMaxScaler\n",
        "from sklearn.preprocessing import StandardScaler\n",
        "\n",
        "import warnings\n",
        "warnings.filterwarnings(\"ignore\")\n",
        "\n",
        "%tensorflow_version 2.x\n",
        "import tensorflow as tf\n",
        "from tensorflow import keras\n",
        "from keras import models\n",
        "from keras import layers"
      ]
    },
    {
      "cell_type": "code",
      "execution_count": 2,
      "metadata": {
        "colab": {
          "base_uri": "https://localhost:8080/",
          "height": 73
        },
        "id": "tL5Y6ysep55G",
        "outputId": "e55107a1-ad78-4003-e991-e8816c0a2033"
      },
      "outputs": [
        {
          "output_type": "display_data",
          "data": {
            "text/plain": [
              "<IPython.core.display.HTML object>"
            ],
            "text/html": [
              "\n",
              "     <input type=\"file\" id=\"files-8392d5bf-db71-4bf2-ba03-85ae62b4adba\" name=\"files[]\" multiple disabled\n",
              "        style=\"border:none\" />\n",
              "     <output id=\"result-8392d5bf-db71-4bf2-ba03-85ae62b4adba\">\n",
              "      Upload widget is only available when the cell has been executed in the\n",
              "      current browser session. Please rerun this cell to enable.\n",
              "      </output>\n",
              "      <script>// Copyright 2017 Google LLC\n",
              "//\n",
              "// Licensed under the Apache License, Version 2.0 (the \"License\");\n",
              "// you may not use this file except in compliance with the License.\n",
              "// You may obtain a copy of the License at\n",
              "//\n",
              "//      http://www.apache.org/licenses/LICENSE-2.0\n",
              "//\n",
              "// Unless required by applicable law or agreed to in writing, software\n",
              "// distributed under the License is distributed on an \"AS IS\" BASIS,\n",
              "// WITHOUT WARRANTIES OR CONDITIONS OF ANY KIND, either express or implied.\n",
              "// See the License for the specific language governing permissions and\n",
              "// limitations under the License.\n",
              "\n",
              "/**\n",
              " * @fileoverview Helpers for google.colab Python module.\n",
              " */\n",
              "(function(scope) {\n",
              "function span(text, styleAttributes = {}) {\n",
              "  const element = document.createElement('span');\n",
              "  element.textContent = text;\n",
              "  for (const key of Object.keys(styleAttributes)) {\n",
              "    element.style[key] = styleAttributes[key];\n",
              "  }\n",
              "  return element;\n",
              "}\n",
              "\n",
              "// Max number of bytes which will be uploaded at a time.\n",
              "const MAX_PAYLOAD_SIZE = 100 * 1024;\n",
              "\n",
              "function _uploadFiles(inputId, outputId) {\n",
              "  const steps = uploadFilesStep(inputId, outputId);\n",
              "  const outputElement = document.getElementById(outputId);\n",
              "  // Cache steps on the outputElement to make it available for the next call\n",
              "  // to uploadFilesContinue from Python.\n",
              "  outputElement.steps = steps;\n",
              "\n",
              "  return _uploadFilesContinue(outputId);\n",
              "}\n",
              "\n",
              "// This is roughly an async generator (not supported in the browser yet),\n",
              "// where there are multiple asynchronous steps and the Python side is going\n",
              "// to poll for completion of each step.\n",
              "// This uses a Promise to block the python side on completion of each step,\n",
              "// then passes the result of the previous step as the input to the next step.\n",
              "function _uploadFilesContinue(outputId) {\n",
              "  const outputElement = document.getElementById(outputId);\n",
              "  const steps = outputElement.steps;\n",
              "\n",
              "  const next = steps.next(outputElement.lastPromiseValue);\n",
              "  return Promise.resolve(next.value.promise).then((value) => {\n",
              "    // Cache the last promise value to make it available to the next\n",
              "    // step of the generator.\n",
              "    outputElement.lastPromiseValue = value;\n",
              "    return next.value.response;\n",
              "  });\n",
              "}\n",
              "\n",
              "/**\n",
              " * Generator function which is called between each async step of the upload\n",
              " * process.\n",
              " * @param {string} inputId Element ID of the input file picker element.\n",
              " * @param {string} outputId Element ID of the output display.\n",
              " * @return {!Iterable<!Object>} Iterable of next steps.\n",
              " */\n",
              "function* uploadFilesStep(inputId, outputId) {\n",
              "  const inputElement = document.getElementById(inputId);\n",
              "  inputElement.disabled = false;\n",
              "\n",
              "  const outputElement = document.getElementById(outputId);\n",
              "  outputElement.innerHTML = '';\n",
              "\n",
              "  const pickedPromise = new Promise((resolve) => {\n",
              "    inputElement.addEventListener('change', (e) => {\n",
              "      resolve(e.target.files);\n",
              "    });\n",
              "  });\n",
              "\n",
              "  const cancel = document.createElement('button');\n",
              "  inputElement.parentElement.appendChild(cancel);\n",
              "  cancel.textContent = 'Cancel upload';\n",
              "  const cancelPromise = new Promise((resolve) => {\n",
              "    cancel.onclick = () => {\n",
              "      resolve(null);\n",
              "    };\n",
              "  });\n",
              "\n",
              "  // Wait for the user to pick the files.\n",
              "  const files = yield {\n",
              "    promise: Promise.race([pickedPromise, cancelPromise]),\n",
              "    response: {\n",
              "      action: 'starting',\n",
              "    }\n",
              "  };\n",
              "\n",
              "  cancel.remove();\n",
              "\n",
              "  // Disable the input element since further picks are not allowed.\n",
              "  inputElement.disabled = true;\n",
              "\n",
              "  if (!files) {\n",
              "    return {\n",
              "      response: {\n",
              "        action: 'complete',\n",
              "      }\n",
              "    };\n",
              "  }\n",
              "\n",
              "  for (const file of files) {\n",
              "    const li = document.createElement('li');\n",
              "    li.append(span(file.name, {fontWeight: 'bold'}));\n",
              "    li.append(span(\n",
              "        `(${file.type || 'n/a'}) - ${file.size} bytes, ` +\n",
              "        `last modified: ${\n",
              "            file.lastModifiedDate ? file.lastModifiedDate.toLocaleDateString() :\n",
              "                                    'n/a'} - `));\n",
              "    const percent = span('0% done');\n",
              "    li.appendChild(percent);\n",
              "\n",
              "    outputElement.appendChild(li);\n",
              "\n",
              "    const fileDataPromise = new Promise((resolve) => {\n",
              "      const reader = new FileReader();\n",
              "      reader.onload = (e) => {\n",
              "        resolve(e.target.result);\n",
              "      };\n",
              "      reader.readAsArrayBuffer(file);\n",
              "    });\n",
              "    // Wait for the data to be ready.\n",
              "    let fileData = yield {\n",
              "      promise: fileDataPromise,\n",
              "      response: {\n",
              "        action: 'continue',\n",
              "      }\n",
              "    };\n",
              "\n",
              "    // Use a chunked sending to avoid message size limits. See b/62115660.\n",
              "    let position = 0;\n",
              "    do {\n",
              "      const length = Math.min(fileData.byteLength - position, MAX_PAYLOAD_SIZE);\n",
              "      const chunk = new Uint8Array(fileData, position, length);\n",
              "      position += length;\n",
              "\n",
              "      const base64 = btoa(String.fromCharCode.apply(null, chunk));\n",
              "      yield {\n",
              "        response: {\n",
              "          action: 'append',\n",
              "          file: file.name,\n",
              "          data: base64,\n",
              "        },\n",
              "      };\n",
              "\n",
              "      let percentDone = fileData.byteLength === 0 ?\n",
              "          100 :\n",
              "          Math.round((position / fileData.byteLength) * 100);\n",
              "      percent.textContent = `${percentDone}% done`;\n",
              "\n",
              "    } while (position < fileData.byteLength);\n",
              "  }\n",
              "\n",
              "  // All done.\n",
              "  yield {\n",
              "    response: {\n",
              "      action: 'complete',\n",
              "    }\n",
              "  };\n",
              "}\n",
              "\n",
              "scope.google = scope.google || {};\n",
              "scope.google.colab = scope.google.colab || {};\n",
              "scope.google.colab._files = {\n",
              "  _uploadFiles,\n",
              "  _uploadFilesContinue,\n",
              "};\n",
              "})(self);\n",
              "</script> "
            ]
          },
          "metadata": {}
        },
        {
          "output_type": "stream",
          "name": "stdout",
          "text": [
            "Saving Data3_reg.csv to Data3_reg.csv\n"
          ]
        }
      ],
      "source": [
        "#Here we have used the files.upload() method to upload the CSV file from local machine to the Colab environment.\n",
        "from google.colab import files\n",
        "uploaded = files.upload()"
      ]
    },
    {
      "cell_type": "code",
      "execution_count": 6,
      "metadata": {
        "id": "kn5qKonVqQCR"
      },
      "outputs": [],
      "source": [
        "#Then used the io.BytesIO() method to read the file content as a bytes buffer, \n",
        "#which can be passed to the pd.read_csv() method to create a Pandas dataframe\n",
        "\n",
        "import io\n",
        "df = pd.read_csv(io.BytesIO(uploaded['Data3_reg.csv']), parse_dates=['pickup_datetime'])"
      ]
    },
    {
      "cell_type": "code",
      "source": [
        "#we print the first few rows of the dataframe using the df.head() method to confirm that the CSV file was imported correctly.\n",
        "\n",
        "df.head()"
      ],
      "metadata": {
        "id": "YKgQN11cSBD-",
        "colab": {
          "base_uri": "https://localhost:8080/",
          "height": 250
        },
        "outputId": "877ad0c7-7fdb-43d5-c72c-39007b60b5ca"
      },
      "execution_count": 7,
      "outputs": [
        {
          "output_type": "execute_result",
          "data": {
            "text/plain": [
              "   Unnamed: 0      key           pickup_datetime  pickup_longitude  \\\n",
              "0    33938191  20:00.0 2011-05-05 12:20:00+00:00          0.000000   \n",
              "1    19914191  56:00.0 2013-09-21 02:56:00+00:00        -73.988922   \n",
              "2    27738228  06:34.0 2011-12-30 14:06:34+00:00        -73.979698   \n",
              "3    45259803  36:00.0 2010-08-07 12:36:00+00:00        -74.015798   \n",
              "4    14387198  19:41.0 2014-08-21 17:19:41+00:00        -73.967470   \n",
              "\n",
              "   pickup_latitude  dropoff_longitude  dropoff_latitude  passenger_count  \\\n",
              "0         0.000000           0.000000          0.000000                1   \n",
              "1        40.718932         -74.001645         40.721342                4   \n",
              "2        40.743742         -73.975179         40.747947                3   \n",
              "3        40.717710         -74.003808         40.747497                3   \n",
              "4        40.763028         -73.983574         40.743744                1   \n",
              "\n",
              "   fare_amount  \n",
              "0          5.7  \n",
              "1          5.5  \n",
              "2          3.7  \n",
              "3         10.1  \n",
              "4         10.5  "
            ],
            "text/html": [
              "\n",
              "  <div id=\"df-3f9187e6-b1c1-4d99-b51c-ae4cfca16ddc\">\n",
              "    <div class=\"colab-df-container\">\n",
              "      <div>\n",
              "<style scoped>\n",
              "    .dataframe tbody tr th:only-of-type {\n",
              "        vertical-align: middle;\n",
              "    }\n",
              "\n",
              "    .dataframe tbody tr th {\n",
              "        vertical-align: top;\n",
              "    }\n",
              "\n",
              "    .dataframe thead th {\n",
              "        text-align: right;\n",
              "    }\n",
              "</style>\n",
              "<table border=\"1\" class=\"dataframe\">\n",
              "  <thead>\n",
              "    <tr style=\"text-align: right;\">\n",
              "      <th></th>\n",
              "      <th>Unnamed: 0</th>\n",
              "      <th>key</th>\n",
              "      <th>pickup_datetime</th>\n",
              "      <th>pickup_longitude</th>\n",
              "      <th>pickup_latitude</th>\n",
              "      <th>dropoff_longitude</th>\n",
              "      <th>dropoff_latitude</th>\n",
              "      <th>passenger_count</th>\n",
              "      <th>fare_amount</th>\n",
              "    </tr>\n",
              "  </thead>\n",
              "  <tbody>\n",
              "    <tr>\n",
              "      <th>0</th>\n",
              "      <td>33938191</td>\n",
              "      <td>20:00.0</td>\n",
              "      <td>2011-05-05 12:20:00+00:00</td>\n",
              "      <td>0.000000</td>\n",
              "      <td>0.000000</td>\n",
              "      <td>0.000000</td>\n",
              "      <td>0.000000</td>\n",
              "      <td>1</td>\n",
              "      <td>5.7</td>\n",
              "    </tr>\n",
              "    <tr>\n",
              "      <th>1</th>\n",
              "      <td>19914191</td>\n",
              "      <td>56:00.0</td>\n",
              "      <td>2013-09-21 02:56:00+00:00</td>\n",
              "      <td>-73.988922</td>\n",
              "      <td>40.718932</td>\n",
              "      <td>-74.001645</td>\n",
              "      <td>40.721342</td>\n",
              "      <td>4</td>\n",
              "      <td>5.5</td>\n",
              "    </tr>\n",
              "    <tr>\n",
              "      <th>2</th>\n",
              "      <td>27738228</td>\n",
              "      <td>06:34.0</td>\n",
              "      <td>2011-12-30 14:06:34+00:00</td>\n",
              "      <td>-73.979698</td>\n",
              "      <td>40.743742</td>\n",
              "      <td>-73.975179</td>\n",
              "      <td>40.747947</td>\n",
              "      <td>3</td>\n",
              "      <td>3.7</td>\n",
              "    </tr>\n",
              "    <tr>\n",
              "      <th>3</th>\n",
              "      <td>45259803</td>\n",
              "      <td>36:00.0</td>\n",
              "      <td>2010-08-07 12:36:00+00:00</td>\n",
              "      <td>-74.015798</td>\n",
              "      <td>40.717710</td>\n",
              "      <td>-74.003808</td>\n",
              "      <td>40.747497</td>\n",
              "      <td>3</td>\n",
              "      <td>10.1</td>\n",
              "    </tr>\n",
              "    <tr>\n",
              "      <th>4</th>\n",
              "      <td>14387198</td>\n",
              "      <td>19:41.0</td>\n",
              "      <td>2014-08-21 17:19:41+00:00</td>\n",
              "      <td>-73.967470</td>\n",
              "      <td>40.763028</td>\n",
              "      <td>-73.983574</td>\n",
              "      <td>40.743744</td>\n",
              "      <td>1</td>\n",
              "      <td>10.5</td>\n",
              "    </tr>\n",
              "  </tbody>\n",
              "</table>\n",
              "</div>\n",
              "      <button class=\"colab-df-convert\" onclick=\"convertToInteractive('df-3f9187e6-b1c1-4d99-b51c-ae4cfca16ddc')\"\n",
              "              title=\"Convert this dataframe to an interactive table.\"\n",
              "              style=\"display:none;\">\n",
              "        \n",
              "  <svg xmlns=\"http://www.w3.org/2000/svg\" height=\"24px\"viewBox=\"0 0 24 24\"\n",
              "       width=\"24px\">\n",
              "    <path d=\"M0 0h24v24H0V0z\" fill=\"none\"/>\n",
              "    <path d=\"M18.56 5.44l.94 2.06.94-2.06 2.06-.94-2.06-.94-.94-2.06-.94 2.06-2.06.94zm-11 1L8.5 8.5l.94-2.06 2.06-.94-2.06-.94L8.5 2.5l-.94 2.06-2.06.94zm10 10l.94 2.06.94-2.06 2.06-.94-2.06-.94-.94-2.06-.94 2.06-2.06.94z\"/><path d=\"M17.41 7.96l-1.37-1.37c-.4-.4-.92-.59-1.43-.59-.52 0-1.04.2-1.43.59L10.3 9.45l-7.72 7.72c-.78.78-.78 2.05 0 2.83L4 21.41c.39.39.9.59 1.41.59.51 0 1.02-.2 1.41-.59l7.78-7.78 2.81-2.81c.8-.78.8-2.07 0-2.86zM5.41 20L4 18.59l7.72-7.72 1.47 1.35L5.41 20z\"/>\n",
              "  </svg>\n",
              "      </button>\n",
              "      \n",
              "  <style>\n",
              "    .colab-df-container {\n",
              "      display:flex;\n",
              "      flex-wrap:wrap;\n",
              "      gap: 12px;\n",
              "    }\n",
              "\n",
              "    .colab-df-convert {\n",
              "      background-color: #E8F0FE;\n",
              "      border: none;\n",
              "      border-radius: 50%;\n",
              "      cursor: pointer;\n",
              "      display: none;\n",
              "      fill: #1967D2;\n",
              "      height: 32px;\n",
              "      padding: 0 0 0 0;\n",
              "      width: 32px;\n",
              "    }\n",
              "\n",
              "    .colab-df-convert:hover {\n",
              "      background-color: #E2EBFA;\n",
              "      box-shadow: 0px 1px 2px rgba(60, 64, 67, 0.3), 0px 1px 3px 1px rgba(60, 64, 67, 0.15);\n",
              "      fill: #174EA6;\n",
              "    }\n",
              "\n",
              "    [theme=dark] .colab-df-convert {\n",
              "      background-color: #3B4455;\n",
              "      fill: #D2E3FC;\n",
              "    }\n",
              "\n",
              "    [theme=dark] .colab-df-convert:hover {\n",
              "      background-color: #434B5C;\n",
              "      box-shadow: 0px 1px 3px 1px rgba(0, 0, 0, 0.15);\n",
              "      filter: drop-shadow(0px 1px 2px rgba(0, 0, 0, 0.3));\n",
              "      fill: #FFFFFF;\n",
              "    }\n",
              "  </style>\n",
              "\n",
              "      <script>\n",
              "        const buttonEl =\n",
              "          document.querySelector('#df-3f9187e6-b1c1-4d99-b51c-ae4cfca16ddc button.colab-df-convert');\n",
              "        buttonEl.style.display =\n",
              "          google.colab.kernel.accessAllowed ? 'block' : 'none';\n",
              "\n",
              "        async function convertToInteractive(key) {\n",
              "          const element = document.querySelector('#df-3f9187e6-b1c1-4d99-b51c-ae4cfca16ddc');\n",
              "          const dataTable =\n",
              "            await google.colab.kernel.invokeFunction('convertToInteractive',\n",
              "                                                     [key], {});\n",
              "          if (!dataTable) return;\n",
              "\n",
              "          const docLinkHtml = 'Like what you see? Visit the ' +\n",
              "            '<a target=\"_blank\" href=https://colab.research.google.com/notebooks/data_table.ipynb>data table notebook</a>'\n",
              "            + ' to learn more about interactive tables.';\n",
              "          element.innerHTML = '';\n",
              "          dataTable['output_type'] = 'display_data';\n",
              "          await google.colab.output.renderOutput(dataTable, element);\n",
              "          const docLink = document.createElement('div');\n",
              "          docLink.innerHTML = docLinkHtml;\n",
              "          element.appendChild(docLink);\n",
              "        }\n",
              "      </script>\n",
              "    </div>\n",
              "  </div>\n",
              "  "
            ]
          },
          "metadata": {},
          "execution_count": 7
        }
      ]
    },
    {
      "cell_type": "markdown",
      "metadata": {
        "id": "gzUzxvKAOENO"
      },
      "source": [
        "**The dataset contains the following fields :**\n",
        "* key - a unique identifier for each trip\n",
        "* fare_amount - the cost of each trip in usd\n",
        "* pickup_datetime - date and time when the meter was engaged\n",
        "* passenger_count - the number of passengers in the vehicle (driver entered value)\n",
        "* pickup_longitude - the longitude where the meter was engaged\n",
        "* pickup_latitude - the latitude where the meter was engaged\n",
        "* dropoff_longitude - the longitude where the meter was disengaged\n",
        "* dropoff_latitude - the latitude where the meter was disengaged"
      ]
    },
    {
      "cell_type": "code",
      "source": [
        "#droping the unnecessary columns\n",
        "\n",
        "df.drop(['Unnamed: 0','key'],inplace=True,axis = 1)\n",
        "df.dropna(axis=0,inplace=True)"
      ],
      "metadata": {
        "id": "TFINyu1CWVX9"
      },
      "execution_count": 8,
      "outputs": []
    },
    {
      "cell_type": "markdown",
      "metadata": {
        "id": "XpFjdnWAOiKo"
      },
      "source": [
        "**Numerical Variables :**\n",
        "* pickup_datetime\n",
        "* pickup_latitude\n",
        "* pickup_longitude\n",
        "* dropoff_latitude\n",
        "* dropoff_longitude\n",
        "\n",
        "**Categorical Variables :**\n",
        "* passanger_count\n",
        "\n",
        "**Target Variable :**\n",
        "* fare_amount"
      ]
    },
    {
      "cell_type": "code",
      "source": [
        "#checking data for outliers\n",
        "df.describe().T"
      ],
      "metadata": {
        "id": "8ukQ7U1FU8PA",
        "colab": {
          "base_uri": "https://localhost:8080/",
          "height": 238
        },
        "outputId": "19644f98-d00a-40fc-b168-142762afb169"
      },
      "execution_count": 9,
      "outputs": [
        {
          "output_type": "execute_result",
          "data": {
            "text/plain": [
              "                      count       mean        std          min        25%  \\\n",
              "pickup_longitude   119999.0 -72.542943  11.714026 -1340.648410 -73.992060   \n",
              "pickup_latitude    119999.0  39.939603   7.745510   -74.015515  40.734781   \n",
              "dropoff_longitude  119999.0 -72.550497  14.053754 -3356.666300 -73.991428   \n",
              "dropoff_latitude   119999.0  39.939267   6.687583   -74.015750  40.733797   \n",
              "passenger_count    119999.0   1.684106   1.305724     0.000000   1.000000   \n",
              "fare_amount        119999.0  11.331929   9.821714   -52.000000   6.000000   \n",
              "\n",
              "                         50%        75%          max  \n",
              "pickup_longitude  -73.981846 -73.967126    40.806012  \n",
              "pickup_latitude    40.752555  40.767193  1644.421482  \n",
              "dropoff_longitude -73.980128 -73.963653    40.828377  \n",
              "dropoff_latitude   40.753005  40.768045   872.697628  \n",
              "passenger_count     1.000000   2.000000     6.000000  \n",
              "fare_amount         8.500000  12.500000   350.000000  "
            ],
            "text/html": [
              "\n",
              "  <div id=\"df-197b97c1-f0ae-4e79-b675-0f5c81303748\">\n",
              "    <div class=\"colab-df-container\">\n",
              "      <div>\n",
              "<style scoped>\n",
              "    .dataframe tbody tr th:only-of-type {\n",
              "        vertical-align: middle;\n",
              "    }\n",
              "\n",
              "    .dataframe tbody tr th {\n",
              "        vertical-align: top;\n",
              "    }\n",
              "\n",
              "    .dataframe thead th {\n",
              "        text-align: right;\n",
              "    }\n",
              "</style>\n",
              "<table border=\"1\" class=\"dataframe\">\n",
              "  <thead>\n",
              "    <tr style=\"text-align: right;\">\n",
              "      <th></th>\n",
              "      <th>count</th>\n",
              "      <th>mean</th>\n",
              "      <th>std</th>\n",
              "      <th>min</th>\n",
              "      <th>25%</th>\n",
              "      <th>50%</th>\n",
              "      <th>75%</th>\n",
              "      <th>max</th>\n",
              "    </tr>\n",
              "  </thead>\n",
              "  <tbody>\n",
              "    <tr>\n",
              "      <th>pickup_longitude</th>\n",
              "      <td>119999.0</td>\n",
              "      <td>-72.542943</td>\n",
              "      <td>11.714026</td>\n",
              "      <td>-1340.648410</td>\n",
              "      <td>-73.992060</td>\n",
              "      <td>-73.981846</td>\n",
              "      <td>-73.967126</td>\n",
              "      <td>40.806012</td>\n",
              "    </tr>\n",
              "    <tr>\n",
              "      <th>pickup_latitude</th>\n",
              "      <td>119999.0</td>\n",
              "      <td>39.939603</td>\n",
              "      <td>7.745510</td>\n",
              "      <td>-74.015515</td>\n",
              "      <td>40.734781</td>\n",
              "      <td>40.752555</td>\n",
              "      <td>40.767193</td>\n",
              "      <td>1644.421482</td>\n",
              "    </tr>\n",
              "    <tr>\n",
              "      <th>dropoff_longitude</th>\n",
              "      <td>119999.0</td>\n",
              "      <td>-72.550497</td>\n",
              "      <td>14.053754</td>\n",
              "      <td>-3356.666300</td>\n",
              "      <td>-73.991428</td>\n",
              "      <td>-73.980128</td>\n",
              "      <td>-73.963653</td>\n",
              "      <td>40.828377</td>\n",
              "    </tr>\n",
              "    <tr>\n",
              "      <th>dropoff_latitude</th>\n",
              "      <td>119999.0</td>\n",
              "      <td>39.939267</td>\n",
              "      <td>6.687583</td>\n",
              "      <td>-74.015750</td>\n",
              "      <td>40.733797</td>\n",
              "      <td>40.753005</td>\n",
              "      <td>40.768045</td>\n",
              "      <td>872.697628</td>\n",
              "    </tr>\n",
              "    <tr>\n",
              "      <th>passenger_count</th>\n",
              "      <td>119999.0</td>\n",
              "      <td>1.684106</td>\n",
              "      <td>1.305724</td>\n",
              "      <td>0.000000</td>\n",
              "      <td>1.000000</td>\n",
              "      <td>1.000000</td>\n",
              "      <td>2.000000</td>\n",
              "      <td>6.000000</td>\n",
              "    </tr>\n",
              "    <tr>\n",
              "      <th>fare_amount</th>\n",
              "      <td>119999.0</td>\n",
              "      <td>11.331929</td>\n",
              "      <td>9.821714</td>\n",
              "      <td>-52.000000</td>\n",
              "      <td>6.000000</td>\n",
              "      <td>8.500000</td>\n",
              "      <td>12.500000</td>\n",
              "      <td>350.000000</td>\n",
              "    </tr>\n",
              "  </tbody>\n",
              "</table>\n",
              "</div>\n",
              "      <button class=\"colab-df-convert\" onclick=\"convertToInteractive('df-197b97c1-f0ae-4e79-b675-0f5c81303748')\"\n",
              "              title=\"Convert this dataframe to an interactive table.\"\n",
              "              style=\"display:none;\">\n",
              "        \n",
              "  <svg xmlns=\"http://www.w3.org/2000/svg\" height=\"24px\"viewBox=\"0 0 24 24\"\n",
              "       width=\"24px\">\n",
              "    <path d=\"M0 0h24v24H0V0z\" fill=\"none\"/>\n",
              "    <path d=\"M18.56 5.44l.94 2.06.94-2.06 2.06-.94-2.06-.94-.94-2.06-.94 2.06-2.06.94zm-11 1L8.5 8.5l.94-2.06 2.06-.94-2.06-.94L8.5 2.5l-.94 2.06-2.06.94zm10 10l.94 2.06.94-2.06 2.06-.94-2.06-.94-.94-2.06-.94 2.06-2.06.94z\"/><path d=\"M17.41 7.96l-1.37-1.37c-.4-.4-.92-.59-1.43-.59-.52 0-1.04.2-1.43.59L10.3 9.45l-7.72 7.72c-.78.78-.78 2.05 0 2.83L4 21.41c.39.39.9.59 1.41.59.51 0 1.02-.2 1.41-.59l7.78-7.78 2.81-2.81c.8-.78.8-2.07 0-2.86zM5.41 20L4 18.59l7.72-7.72 1.47 1.35L5.41 20z\"/>\n",
              "  </svg>\n",
              "      </button>\n",
              "      \n",
              "  <style>\n",
              "    .colab-df-container {\n",
              "      display:flex;\n",
              "      flex-wrap:wrap;\n",
              "      gap: 12px;\n",
              "    }\n",
              "\n",
              "    .colab-df-convert {\n",
              "      background-color: #E8F0FE;\n",
              "      border: none;\n",
              "      border-radius: 50%;\n",
              "      cursor: pointer;\n",
              "      display: none;\n",
              "      fill: #1967D2;\n",
              "      height: 32px;\n",
              "      padding: 0 0 0 0;\n",
              "      width: 32px;\n",
              "    }\n",
              "\n",
              "    .colab-df-convert:hover {\n",
              "      background-color: #E2EBFA;\n",
              "      box-shadow: 0px 1px 2px rgba(60, 64, 67, 0.3), 0px 1px 3px 1px rgba(60, 64, 67, 0.15);\n",
              "      fill: #174EA6;\n",
              "    }\n",
              "\n",
              "    [theme=dark] .colab-df-convert {\n",
              "      background-color: #3B4455;\n",
              "      fill: #D2E3FC;\n",
              "    }\n",
              "\n",
              "    [theme=dark] .colab-df-convert:hover {\n",
              "      background-color: #434B5C;\n",
              "      box-shadow: 0px 1px 3px 1px rgba(0, 0, 0, 0.15);\n",
              "      filter: drop-shadow(0px 1px 2px rgba(0, 0, 0, 0.3));\n",
              "      fill: #FFFFFF;\n",
              "    }\n",
              "  </style>\n",
              "\n",
              "      <script>\n",
              "        const buttonEl =\n",
              "          document.querySelector('#df-197b97c1-f0ae-4e79-b675-0f5c81303748 button.colab-df-convert');\n",
              "        buttonEl.style.display =\n",
              "          google.colab.kernel.accessAllowed ? 'block' : 'none';\n",
              "\n",
              "        async function convertToInteractive(key) {\n",
              "          const element = document.querySelector('#df-197b97c1-f0ae-4e79-b675-0f5c81303748');\n",
              "          const dataTable =\n",
              "            await google.colab.kernel.invokeFunction('convertToInteractive',\n",
              "                                                     [key], {});\n",
              "          if (!dataTable) return;\n",
              "\n",
              "          const docLinkHtml = 'Like what you see? Visit the ' +\n",
              "            '<a target=\"_blank\" href=https://colab.research.google.com/notebooks/data_table.ipynb>data table notebook</a>'\n",
              "            + ' to learn more about interactive tables.';\n",
              "          element.innerHTML = '';\n",
              "          dataTable['output_type'] = 'display_data';\n",
              "          await google.colab.output.renderOutput(dataTable, element);\n",
              "          const docLink = document.createElement('div');\n",
              "          docLink.innerHTML = docLinkHtml;\n",
              "          element.appendChild(docLink);\n",
              "        }\n",
              "      </script>\n",
              "    </div>\n",
              "  </div>\n",
              "  "
            ]
          },
          "metadata": {},
          "execution_count": 9
        }
      ]
    },
    {
      "cell_type": "markdown",
      "source": [
        "We see the presence of **strange values** in the **max and min coordinates** and the **min fare amount**.\n",
        "\n",
        "Also The valid range of latitude in degrees is -90 and +90 for the southern and northern hemisphere, respectively. Longitude is in the range -180 and +180 specifying coordinates west and east of the Prime Meridian, respectively. But we see Max and Min latitude and longitude in our data set near ±3000 - it's definitely a mistake."
      ],
      "metadata": {
        "id": "kDVhlze3-iJT"
      }
    },
    {
      "cell_type": "code",
      "source": [
        "#Plotting HeatMap\n",
        "\n",
        "plt.figure(figsize=(10,4))\n",
        "sns.heatmap(df.corr(), annot=True, linewidths=.5, vmin = -1, vmax = 1, fmt = '.2g')"
      ],
      "metadata": {
        "id": "1vyJK1ysVcmJ",
        "colab": {
          "base_uri": "https://localhost:8080/",
          "height": 499
        },
        "outputId": "89d1ce70-5bf7-4e65-f786-0d74bff8e6dd"
      },
      "execution_count": 10,
      "outputs": [
        {
          "output_type": "execute_result",
          "data": {
            "text/plain": [
              "<Axes: >"
            ]
          },
          "metadata": {},
          "execution_count": 10
        },
        {
          "output_type": "display_data",
          "data": {
            "text/plain": [
              "<Figure size 1000x400 with 2 Axes>"
            ],
            "image/png": "[encoded data removed]"
          },
          "metadata": {}
        }
      ]
    },
    {
      "cell_type": "markdown",
      "source": [
        "**High correlation can be observed between the geo-spatial data points, which was expected. Therefore, there is no need to drop any of the independent variables**"
      ],
      "metadata": {
        "id": "KgYpo2pmVmFM"
      }
    },
    {
      "cell_type": "markdown",
      "source": [
        "<p><h1><b><font color='DarkBlue'>Data Visualization</b></h1></p>"
      ],
      "metadata": {
        "id": "R0Vj0-Pbx3tg"
      }
    },
    {
      "cell_type": "code",
      "source": [
        "df.hist(bins=15, figsize=(15, 10),color='blue')"
      ],
      "metadata": {
        "colab": {
          "base_uri": "https://localhost:8080/",
          "height": 945
        },
        "id": "fn2Hec_Kxu8d",
        "outputId": "67099e10-ecfa-4ed0-820c-6b489c1fcbf0"
      },
      "execution_count": 11,
      "outputs": [
        {
          "output_type": "execute_result",
          "data": {
            "text/plain": [
              "array([[<Axes: title={'center': 'pickup_datetime'}>,\n",
              "        <Axes: title={'center': 'pickup_longitude'}>,\n",
              "        <Axes: title={'center': 'pickup_latitude'}>],\n",
              "       [<Axes: title={'center': 'dropoff_longitude'}>,\n",
              "        <Axes: title={'center': 'dropoff_latitude'}>,\n",
              "        <Axes: title={'center': 'passenger_count'}>],\n",
              "       [<Axes: title={'center': 'fare_amount'}>, <Axes: >, <Axes: >]],\n",
              "      dtype=object)"
            ]
          },
          "metadata": {},
          "execution_count": 11
        },
        {
          "output_type": "display_data",
          "data": {
            "text/plain": [
              "<Figure size 1500x1000 with 9 Axes>"
            ],
            "image/png": "[encoded data removed]"
          },
          "metadata": {}
        }
      ]
    },
    {
      "cell_type": "markdown",
      "source": [
        "**Conclusions from the histplots:**\n",
        "\n",
        "**1. fare_amount**\n",
        "\n",
        "taking only positive trip costs and limit the maximum cost to $100 to eliminate possible outliers\n",
        "\n",
        "**2. passenger_count**\n",
        "\n",
        "taking only non-zero numbers of passengers (replace 0 by 1) and maximum count is 6\n",
        "\n",
        "**3. Co-ordinates**\n",
        "\n",
        "taking the Euclidean Distance from pickup, dropoff latitudes and longitudes\n",
        "\n",
        "**4. pickup_datetime**\n",
        "\n",
        "separating the 'pickup_datetime' column into different columns for 'year', 'month', 'day', 'day_of_week', and 'hour'"
      ],
      "metadata": {
        "id": "1QTR14Mr-CmA"
      }
    },
    {
      "cell_type": "markdown",
      "metadata": {
        "id": "ap9l_zbSPKQp"
      },
      "source": [
        "<p><h1><b><font color='darkblue'>Data Preprocessing</b></h1></p>"
      ]
    },
    {
      "cell_type": "code",
      "execution_count": 12,
      "metadata": {
        "id": "6zZanYzvqfTQ"
      },
      "outputs": [],
      "source": [
        "def preprocess(df): \n",
        "    # remove missing values in the dataframe\n",
        "    def remove_missing_values(df):\n",
        "        df = df.dropna()\n",
        "        return df\n",
        "    \n",
        "    # remove outliers in fare amount \n",
        "    def remove_fare_amount_outliers(df, lower_bound, upper_bound):\n",
        "        df = df[(df['fare_amount'] > lower_bound) & (df['fare_amount'] <= upper_bound)]\n",
        "        return df\n",
        "    \n",
        "    # replace outliers in passenger count with the mode\n",
        "    def replace_passenger_count_outliers(df):\n",
        "        mode = df['passenger_count'].mode().values[0]\n",
        "        df.loc[df['passenger_count'] == 0, 'passenger_count'] = 1\n",
        "        return df\n",
        "    \n",
        "    #remove outliers in latitude and longitude\n",
        "    def remove_lat_long_outliers(df):\n",
        "        # range of longitude for NYC\n",
        "        min_longitude = -180.0\n",
        "        max_longitude = +180.0\n",
        "\n",
        "        # range of latitude for NYC\n",
        "        min_latitude = -90\n",
        "        max_latitude = +90\n",
        "        \n",
        "        # only consider valid locations \n",
        "        for long in ['pickup_longitude', 'dropoff_longitude']:\n",
        "            df = df[(df[long] > min_longitude) & (df[long] < max_longitude)]\n",
        "\n",
        "        for lat in ['pickup_latitude', 'dropoff_latitude']:\n",
        "            df = df[(df[lat] > min_latitude) & (df[lat] < max_latitude)]\n",
        "        return df\n",
        "\n",
        "\n",
        "    df = remove_missing_values(df)\n",
        "    df = remove_fare_amount_outliers(df, lower_bound = 0, upper_bound = 100)\n",
        "    df = replace_passenger_count_outliers(df)\n",
        "    df = remove_lat_long_outliers(df)\n",
        "    return df\n"
      ]
    },
    {
      "cell_type": "code",
      "execution_count": 13,
      "metadata": {
        "id": "ENPgwZjUrrcj"
      },
      "outputs": [],
      "source": [
        "df = preprocess(df)"
      ]
    },
    {
      "cell_type": "code",
      "execution_count": 14,
      "metadata": {
        "id": "khBc-nHsWZEh",
        "colab": {
          "base_uri": "https://localhost:8080/",
          "height": 206
        },
        "outputId": "ac1a6107-2f2d-4fa9-d409-5efa1faa129d"
      },
      "outputs": [
        {
          "output_type": "execute_result",
          "data": {
            "text/plain": [
              "            pickup_datetime  pickup_longitude  pickup_latitude  \\\n",
              "0 2011-05-05 12:20:00+00:00          0.000000         0.000000   \n",
              "1 2013-09-21 02:56:00+00:00        -73.988922        40.718932   \n",
              "2 2011-12-30 14:06:34+00:00        -73.979698        40.743742   \n",
              "3 2010-08-07 12:36:00+00:00        -74.015798        40.717710   \n",
              "4 2014-08-21 17:19:41+00:00        -73.967470        40.763028   \n",
              "\n",
              "   dropoff_longitude  dropoff_latitude  passenger_count  fare_amount  \n",
              "0           0.000000          0.000000                1          5.7  \n",
              "1         -74.001645         40.721342                4          5.5  \n",
              "2         -73.975179         40.747947                3          3.7  \n",
              "3         -74.003808         40.747497                3         10.1  \n",
              "4         -73.983574         40.743744                1         10.5  "
            ],
            "text/html": [
              "\n",
              "  <div id=\"df-22a1a7d9-af5f-46e4-b456-14fefa2f1fd3\">\n",
              "    <div class=\"colab-df-container\">\n",
              "      <div>\n",
              "<style scoped>\n",
              "    .dataframe tbody tr th:only-of-type {\n",
              "        vertical-align: middle;\n",
              "    }\n",
              "\n",
              "    .dataframe tbody tr th {\n",
              "        vertical-align: top;\n",
              "    }\n",
              "\n",
              "    .dataframe thead th {\n",
              "        text-align: right;\n",
              "    }\n",
              "</style>\n",
              "<table border=\"1\" class=\"dataframe\">\n",
              "  <thead>\n",
              "    <tr style=\"text-align: right;\">\n",
              "      <th></th>\n",
              "      <th>pickup_datetime</th>\n",
              "      <th>pickup_longitude</th>\n",
              "      <th>pickup_latitude</th>\n",
              "      <th>dropoff_longitude</th>\n",
              "      <th>dropoff_latitude</th>\n",
              "      <th>passenger_count</th>\n",
              "      <th>fare_amount</th>\n",
              "    </tr>\n",
              "  </thead>\n",
              "  <tbody>\n",
              "    <tr>\n",
              "      <th>0</th>\n",
              "      <td>2011-05-05 12:20:00+00:00</td>\n",
              "      <td>0.000000</td>\n",
              "      <td>0.000000</td>\n",
              "      <td>0.000000</td>\n",
              "      <td>0.000000</td>\n",
              "      <td>1</td>\n",
              "      <td>5.7</td>\n",
              "    </tr>\n",
              "    <tr>\n",
              "      <th>1</th>\n",
              "      <td>2013-09-21 02:56:00+00:00</td>\n",
              "      <td>-73.988922</td>\n",
              "      <td>40.718932</td>\n",
              "      <td>-74.001645</td>\n",
              "      <td>40.721342</td>\n",
              "      <td>4</td>\n",
              "      <td>5.5</td>\n",
              "    </tr>\n",
              "    <tr>\n",
              "      <th>2</th>\n",
              "      <td>2011-12-30 14:06:34+00:00</td>\n",
              "      <td>-73.979698</td>\n",
              "      <td>40.743742</td>\n",
              "      <td>-73.975179</td>\n",
              "      <td>40.747947</td>\n",
              "      <td>3</td>\n",
              "      <td>3.7</td>\n",
              "    </tr>\n",
              "    <tr>\n",
              "      <th>3</th>\n",
              "      <td>2010-08-07 12:36:00+00:00</td>\n",
              "      <td>-74.015798</td>\n",
              "      <td>40.717710</td>\n",
              "      <td>-74.003808</td>\n",
              "      <td>40.747497</td>\n",
              "      <td>3</td>\n",
              "      <td>10.1</td>\n",
              "    </tr>\n",
              "    <tr>\n",
              "      <th>4</th>\n",
              "      <td>2014-08-21 17:19:41+00:00</td>\n",
              "      <td>-73.967470</td>\n",
              "      <td>40.763028</td>\n",
              "      <td>-73.983574</td>\n",
              "      <td>40.743744</td>\n",
              "      <td>1</td>\n",
              "      <td>10.5</td>\n",
              "    </tr>\n",
              "  </tbody>\n",
              "</table>\n",
              "</div>\n",
              "      <button class=\"colab-df-convert\" onclick=\"convertToInteractive('df-22a1a7d9-af5f-46e4-b456-14fefa2f1fd3')\"\n",
              "              title=\"Convert this dataframe to an interactive table.\"\n",
              "              style=\"display:none;\">\n",
              "        \n",
              "  <svg xmlns=\"http://www.w3.org/2000/svg\" height=\"24px\"viewBox=\"0 0 24 24\"\n",
              "       width=\"24px\">\n",
              "    <path d=\"M0 0h24v24H0V0z\" fill=\"none\"/>\n",
              "    <path d=\"M18.56 5.44l.94 2.06.94-2.06 2.06-.94-2.06-.94-.94-2.06-.94 2.06-2.06.94zm-11 1L8.5 8.5l.94-2.06 2.06-.94-2.06-.94L8.5 2.5l-.94 2.06-2.06.94zm10 10l.94 2.06.94-2.06 2.06-.94-2.06-.94-.94-2.06-.94 2.06-2.06.94z\"/><path d=\"M17.41 7.96l-1.37-1.37c-.4-.4-.92-.59-1.43-.59-.52 0-1.04.2-1.43.59L10.3 9.45l-7.72 7.72c-.78.78-.78 2.05 0 2.83L4 21.41c.39.39.9.59 1.41.59.51 0 1.02-.2 1.41-.59l7.78-7.78 2.81-2.81c.8-.78.8-2.07 0-2.86zM5.41 20L4 18.59l7.72-7.72 1.47 1.35L5.41 20z\"/>\n",
              "  </svg>\n",
              "      </button>\n",
              "      \n",
              "  <style>\n",
              "    .colab-df-container {\n",
              "      display:flex;\n",
              "      flex-wrap:wrap;\n",
              "      gap: 12px;\n",
              "    }\n",
              "\n",
              "    .colab-df-convert {\n",
              "      background-color: #E8F0FE;\n",
              "      border: none;\n",
              "      border-radius: 50%;\n",
              "      cursor: pointer;\n",
              "      display: none;\n",
              "      fill: #1967D2;\n",
              "      height: 32px;\n",
              "      padding: 0 0 0 0;\n",
              "      width: 32px;\n",
              "    }\n",
              "\n",
              "    .colab-df-convert:hover {\n",
              "      background-color: #E2EBFA;\n",
              "      box-shadow: 0px 1px 2px rgba(60, 64, 67, 0.3), 0px 1px 3px 1px rgba(60, 64, 67, 0.15);\n",
              "      fill: #174EA6;\n",
              "    }\n",
              "\n",
              "    [theme=dark] .colab-df-convert {\n",
              "      background-color: #3B4455;\n",
              "      fill: #D2E3FC;\n",
              "    }\n",
              "\n",
              "    [theme=dark] .colab-df-convert:hover {\n",
              "      background-color: #434B5C;\n",
              "      box-shadow: 0px 1px 3px 1px rgba(0, 0, 0, 0.15);\n",
              "      filter: drop-shadow(0px 1px 2px rgba(0, 0, 0, 0.3));\n",
              "      fill: #FFFFFF;\n",
              "    }\n",
              "  </style>\n",
              "\n",
              "      <script>\n",
              "        const buttonEl =\n",
              "          document.querySelector('#df-22a1a7d9-af5f-46e4-b456-14fefa2f1fd3 button.colab-df-convert');\n",
              "        buttonEl.style.display =\n",
              "          google.colab.kernel.accessAllowed ? 'block' : 'none';\n",
              "\n",
              "        async function convertToInteractive(key) {\n",
              "          const element = document.querySelector('#df-22a1a7d9-af5f-46e4-b456-14fefa2f1fd3');\n",
              "          const dataTable =\n",
              "            await google.colab.kernel.invokeFunction('convertToInteractive',\n",
              "                                                     [key], {});\n",
              "          if (!dataTable) return;\n",
              "\n",
              "          const docLinkHtml = 'Like what you see? Visit the ' +\n",
              "            '<a target=\"_blank\" href=https://colab.research.google.com/notebooks/data_table.ipynb>data table notebook</a>'\n",
              "            + ' to learn more about interactive tables.';\n",
              "          element.innerHTML = '';\n",
              "          dataTable['output_type'] = 'display_data';\n",
              "          await google.colab.output.renderOutput(dataTable, element);\n",
              "          const docLink = document.createElement('div');\n",
              "          docLink.innerHTML = docLinkHtml;\n",
              "          element.appendChild(docLink);\n",
              "        }\n",
              "      </script>\n",
              "    </div>\n",
              "  </div>\n",
              "  "
            ]
          },
          "metadata": {},
          "execution_count": 14
        }
      ],
      "source": [
        "df.head()"
      ]
    },
    {
      "cell_type": "markdown",
      "source": [
        "<p><h2><b>Feature Engineering</h2></p>"
      ],
      "metadata": {
        "id": "bjkvmiArH_7F"
      }
    },
    {
      "cell_type": "code",
      "source": [
        "def feature_engineer(df):\n",
        "    # create new columns for year, month, day, day of week and hour\n",
        "    def create_time_features(df):\n",
        "        df['year'] = df['pickup_datetime'].dt.year\n",
        "        df['month'] = df['pickup_datetime'].dt.month\n",
        "        df['day'] = df['pickup_datetime'].dt.day\n",
        "        df['day_of_week'] = df['pickup_datetime'].dt.dayofweek\n",
        "        df['hour'] = df['pickup_datetime'].dt.hour\n",
        "        df = df.drop(['pickup_datetime'], axis=1)\n",
        "        return df\n",
        "\n",
        "    # function to calculate euclidean distance\n",
        "    def euc_distance(lat1, long1, lat2, long2):\n",
        "        return(((lat1-lat2)**2 + (long1-long2)**2)**0.5)\n",
        "\n",
        "    # create new column for the distance travelled\n",
        "    def create_pickup_dropoff_dist_features(df):\n",
        "        df['travel_distance'] = euc_distance(df['pickup_latitude'], df['pickup_longitude'], df['dropoff_latitude'], df['dropoff_longitude'])\n",
        "        return df\n",
        "    \n",
        "    df = create_time_features(df)\n",
        "    df = create_pickup_dropoff_dist_features(df)\n",
        "    return df"
      ],
      "metadata": {
        "id": "UwEeQ2yACsKw"
      },
      "execution_count": 15,
      "outputs": []
    },
    {
      "cell_type": "code",
      "source": [
        "df = feature_engineer(df)\n",
        "df.head()"
      ],
      "metadata": {
        "id": "wLg4NQ2xCuF6",
        "colab": {
          "base_uri": "https://localhost:8080/",
          "height": 270
        },
        "outputId": "c63c5b9a-abd2-4194-e474-373da24ade83"
      },
      "execution_count": 16,
      "outputs": [
        {
          "output_type": "execute_result",
          "data": {
            "text/plain": [
              "   pickup_longitude  pickup_latitude  dropoff_longitude  dropoff_latitude  \\\n",
              "0          0.000000         0.000000           0.000000          0.000000   \n",
              "1        -73.988922        40.718932         -74.001645         40.721342   \n",
              "2        -73.979698        40.743742         -73.975179         40.747947   \n",
              "3        -74.015798        40.717710         -74.003808         40.747497   \n",
              "4        -73.967470        40.763028         -73.983574         40.743744   \n",
              "\n",
              "   passenger_count  fare_amount  year  month  day  day_of_week  hour  \\\n",
              "0                1          5.7  2011      5    5            3    12   \n",
              "1                4          5.5  2013      9   21            5     2   \n",
              "2                3          3.7  2011     12   30            4    14   \n",
              "3                3         10.1  2010      8    7            5    12   \n",
              "4                1         10.5  2014      8   21            3    17   \n",
              "\n",
              "   travel_distance  \n",
              "0         0.000000  \n",
              "1         0.012949  \n",
              "2         0.006173  \n",
              "3         0.032110  \n",
              "4         0.025124  "
            ],
            "text/html": [
              "\n",
              "  <div id=\"df-658ad3df-bc52-40ff-be2a-ceaf943a30fe\">\n",
              "    <div class=\"colab-df-container\">\n",
              "      <div>\n",
              "<style scoped>\n",
              "    .dataframe tbody tr th:only-of-type {\n",
              "        vertical-align: middle;\n",
              "    }\n",
              "\n",
              "    .dataframe tbody tr th {\n",
              "        vertical-align: top;\n",
              "    }\n",
              "\n",
              "    .dataframe thead th {\n",
              "        text-align: right;\n",
              "    }\n",
              "</style>\n",
              "<table border=\"1\" class=\"dataframe\">\n",
              "  <thead>\n",
              "    <tr style=\"text-align: right;\">\n",
              "      <th></th>\n",
              "      <th>pickup_longitude</th>\n",
              "      <th>pickup_latitude</th>\n",
              "      <th>dropoff_longitude</th>\n",
              "      <th>dropoff_latitude</th>\n",
              "      <th>passenger_count</th>\n",
              "      <th>fare_amount</th>\n",
              "      <th>year</th>\n",
              "      <th>month</th>\n",
              "      <th>day</th>\n",
              "      <th>day_of_week</th>\n",
              "      <th>hour</th>\n",
              "      <th>travel_distance</th>\n",
              "    </tr>\n",
              "  </thead>\n",
              "  <tbody>\n",
              "    <tr>\n",
              "      <th>0</th>\n",
              "      <td>0.000000</td>\n",
              "      <td>0.000000</td>\n",
              "      <td>0.000000</td>\n",
              "      <td>0.000000</td>\n",
              "      <td>1</td>\n",
              "      <td>5.7</td>\n",
              "      <td>2011</td>\n",
              "      <td>5</td>\n",
              "      <td>5</td>\n",
              "      <td>3</td>\n",
              "      <td>12</td>\n",
              "      <td>0.000000</td>\n",
              "    </tr>\n",
              "    <tr>\n",
              "      <th>1</th>\n",
              "      <td>-73.988922</td>\n",
              "      <td>40.718932</td>\n",
              "      <td>-74.001645</td>\n",
              "      <td>40.721342</td>\n",
              "      <td>4</td>\n",
              "      <td>5.5</td>\n",
              "      <td>2013</td>\n",
              "      <td>9</td>\n",
              "      <td>21</td>\n",
              "      <td>5</td>\n",
              "      <td>2</td>\n",
              "      <td>0.012949</td>\n",
              "    </tr>\n",
              "    <tr>\n",
              "      <th>2</th>\n",
              "      <td>-73.979698</td>\n",
              "      <td>40.743742</td>\n",
              "      <td>-73.975179</td>\n",
              "      <td>40.747947</td>\n",
              "      <td>3</td>\n",
              "      <td>3.7</td>\n",
              "      <td>2011</td>\n",
              "      <td>12</td>\n",
              "      <td>30</td>\n",
              "      <td>4</td>\n",
              "      <td>14</td>\n",
              "      <td>0.006173</td>\n",
              "    </tr>\n",
              "    <tr>\n",
              "      <th>3</th>\n",
              "      <td>-74.015798</td>\n",
              "      <td>40.717710</td>\n",
              "      <td>-74.003808</td>\n",
              "      <td>40.747497</td>\n",
              "      <td>3</td>\n",
              "      <td>10.1</td>\n",
              "      <td>2010</td>\n",
              "      <td>8</td>\n",
              "      <td>7</td>\n",
              "      <td>5</td>\n",
              "      <td>12</td>\n",
              "      <td>0.032110</td>\n",
              "    </tr>\n",
              "    <tr>\n",
              "      <th>4</th>\n",
              "      <td>-73.967470</td>\n",
              "      <td>40.763028</td>\n",
              "      <td>-73.983574</td>\n",
              "      <td>40.743744</td>\n",
              "      <td>1</td>\n",
              "      <td>10.5</td>\n",
              "      <td>2014</td>\n",
              "      <td>8</td>\n",
              "      <td>21</td>\n",
              "      <td>3</td>\n",
              "      <td>17</td>\n",
              "      <td>0.025124</td>\n",
              "    </tr>\n",
              "  </tbody>\n",
              "</table>\n",
              "</div>\n",
              "      <button class=\"colab-df-convert\" onclick=\"convertToInteractive('df-658ad3df-bc52-40ff-be2a-ceaf943a30fe')\"\n",
              "              title=\"Convert this dataframe to an interactive table.\"\n",
              "              style=\"display:none;\">\n",
              "        \n",
              "  <svg xmlns=\"http://www.w3.org/2000/svg\" height=\"24px\"viewBox=\"0 0 24 24\"\n",
              "       width=\"24px\">\n",
              "    <path d=\"M0 0h24v24H0V0z\" fill=\"none\"/>\n",
              "    <path d=\"M18.56 5.44l.94 2.06.94-2.06 2.06-.94-2.06-.94-.94-2.06-.94 2.06-2.06.94zm-11 1L8.5 8.5l.94-2.06 2.06-.94-2.06-.94L8.5 2.5l-.94 2.06-2.06.94zm10 10l.94 2.06.94-2.06 2.06-.94-2.06-.94-.94-2.06-.94 2.06-2.06.94z\"/><path d=\"M17.41 7.96l-1.37-1.37c-.4-.4-.92-.59-1.43-.59-.52 0-1.04.2-1.43.59L10.3 9.45l-7.72 7.72c-.78.78-.78 2.05 0 2.83L4 21.41c.39.39.9.59 1.41.59.51 0 1.02-.2 1.41-.59l7.78-7.78 2.81-2.81c.8-.78.8-2.07 0-2.86zM5.41 20L4 18.59l7.72-7.72 1.47 1.35L5.41 20z\"/>\n",
              "  </svg>\n",
              "      </button>\n",
              "      \n",
              "  <style>\n",
              "    .colab-df-container {\n",
              "      display:flex;\n",
              "      flex-wrap:wrap;\n",
              "      gap: 12px;\n",
              "    }\n",
              "\n",
              "    .colab-df-convert {\n",
              "      background-color: #E8F0FE;\n",
              "      border: none;\n",
              "      border-radius: 50%;\n",
              "      cursor: pointer;\n",
              "      display: none;\n",
              "      fill: #1967D2;\n",
              "      height: 32px;\n",
              "      padding: 0 0 0 0;\n",
              "      width: 32px;\n",
              "    }\n",
              "\n",
              "    .colab-df-convert:hover {\n",
              "      background-color: #E2EBFA;\n",
              "      box-shadow: 0px 1px 2px rgba(60, 64, 67, 0.3), 0px 1px 3px 1px rgba(60, 64, 67, 0.15);\n",
              "      fill: #174EA6;\n",
              "    }\n",
              "\n",
              "    [theme=dark] .colab-df-convert {\n",
              "      background-color: #3B4455;\n",
              "      fill: #D2E3FC;\n",
              "    }\n",
              "\n",
              "    [theme=dark] .colab-df-convert:hover {\n",
              "      background-color: #434B5C;\n",
              "      box-shadow: 0px 1px 3px 1px rgba(0, 0, 0, 0.15);\n",
              "      filter: drop-shadow(0px 1px 2px rgba(0, 0, 0, 0.3));\n",
              "      fill: #FFFFFF;\n",
              "    }\n",
              "  </style>\n",
              "\n",
              "      <script>\n",
              "        const buttonEl =\n",
              "          document.querySelector('#df-658ad3df-bc52-40ff-be2a-ceaf943a30fe button.colab-df-convert');\n",
              "        buttonEl.style.display =\n",
              "          google.colab.kernel.accessAllowed ? 'block' : 'none';\n",
              "\n",
              "        async function convertToInteractive(key) {\n",
              "          const element = document.querySelector('#df-658ad3df-bc52-40ff-be2a-ceaf943a30fe');\n",
              "          const dataTable =\n",
              "            await google.colab.kernel.invokeFunction('convertToInteractive',\n",
              "                                                     [key], {});\n",
              "          if (!dataTable) return;\n",
              "\n",
              "          const docLinkHtml = 'Like what you see? Visit the ' +\n",
              "            '<a target=\"_blank\" href=https://colab.research.google.com/notebooks/data_table.ipynb>data table notebook</a>'\n",
              "            + ' to learn more about interactive tables.';\n",
              "          element.innerHTML = '';\n",
              "          dataTable['output_type'] = 'display_data';\n",
              "          await google.colab.output.renderOutput(dataTable, element);\n",
              "          const docLink = document.createElement('div');\n",
              "          docLink.innerHTML = docLinkHtml;\n",
              "          element.appendChild(docLink);\n",
              "        }\n",
              "      </script>\n",
              "    </div>\n",
              "  </div>\n",
              "  "
            ]
          },
          "metadata": {},
          "execution_count": 16
        }
      ]
    },
    {
      "cell_type": "markdown",
      "source": [
        "**Droping the columns which are not required**\n",
        "* Dropping the columns 'pickup datetime' and 'pickup hour' as we have extracted relvant pieces of information\n",
        "* As well as pickup and dropoff coordinates are not required as we have the required data extracted from them"
      ],
      "metadata": {
        "id": "kj00y3YdfgOb"
      }
    },
    {
      "cell_type": "code",
      "source": [
        "df = df.drop(['pickup_longitude', 'pickup_latitude','dropoff_longitude', 'dropoff_latitude'],axis=1)\n",
        "df.head()"
      ],
      "metadata": {
        "colab": {
          "base_uri": "https://localhost:8080/",
          "height": 206
        },
        "id": "iTdUlfZUbUcs",
        "outputId": "8f786ba3-12d9-4b2a-d34e-18f6cfd45706"
      },
      "execution_count": 17,
      "outputs": [
        {
          "output_type": "execute_result",
          "data": {
            "text/plain": [
              "   passenger_count  fare_amount  year  month  day  day_of_week  hour  \\\n",
              "0                1          5.7  2011      5    5            3    12   \n",
              "1                4          5.5  2013      9   21            5     2   \n",
              "2                3          3.7  2011     12   30            4    14   \n",
              "3                3         10.1  2010      8    7            5    12   \n",
              "4                1         10.5  2014      8   21            3    17   \n",
              "\n",
              "   travel_distance  \n",
              "0         0.000000  \n",
              "1         0.012949  \n",
              "2         0.006173  \n",
              "3         0.032110  \n",
              "4         0.025124  "
            ],
            "text/html": [
              "\n",
              "  <div id=\"df-0b0e182d-4e22-4c6c-8d93-09338ec778c6\">\n",
              "    <div class=\"colab-df-container\">\n",
              "      <div>\n",
              "<style scoped>\n",
              "    .dataframe tbody tr th:only-of-type {\n",
              "        vertical-align: middle;\n",
              "    }\n",
              "\n",
              "    .dataframe tbody tr th {\n",
              "        vertical-align: top;\n",
              "    }\n",
              "\n",
              "    .dataframe thead th {\n",
              "        text-align: right;\n",
              "    }\n",
              "</style>\n",
              "<table border=\"1\" class=\"dataframe\">\n",
              "  <thead>\n",
              "    <tr style=\"text-align: right;\">\n",
              "      <th></th>\n",
              "      <th>passenger_count</th>\n",
              "      <th>fare_amount</th>\n",
              "      <th>year</th>\n",
              "      <th>month</th>\n",
              "      <th>day</th>\n",
              "      <th>day_of_week</th>\n",
              "      <th>hour</th>\n",
              "      <th>travel_distance</th>\n",
              "    </tr>\n",
              "  </thead>\n",
              "  <tbody>\n",
              "    <tr>\n",
              "      <th>0</th>\n",
              "      <td>1</td>\n",
              "      <td>5.7</td>\n",
              "      <td>2011</td>\n",
              "      <td>5</td>\n",
              "      <td>5</td>\n",
              "      <td>3</td>\n",
              "      <td>12</td>\n",
              "      <td>0.000000</td>\n",
              "    </tr>\n",
              "    <tr>\n",
              "      <th>1</th>\n",
              "      <td>4</td>\n",
              "      <td>5.5</td>\n",
              "      <td>2013</td>\n",
              "      <td>9</td>\n",
              "      <td>21</td>\n",
              "      <td>5</td>\n",
              "      <td>2</td>\n",
              "      <td>0.012949</td>\n",
              "    </tr>\n",
              "    <tr>\n",
              "      <th>2</th>\n",
              "      <td>3</td>\n",
              "      <td>3.7</td>\n",
              "      <td>2011</td>\n",
              "      <td>12</td>\n",
              "      <td>30</td>\n",
              "      <td>4</td>\n",
              "      <td>14</td>\n",
              "      <td>0.006173</td>\n",
              "    </tr>\n",
              "    <tr>\n",
              "      <th>3</th>\n",
              "      <td>3</td>\n",
              "      <td>10.1</td>\n",
              "      <td>2010</td>\n",
              "      <td>8</td>\n",
              "      <td>7</td>\n",
              "      <td>5</td>\n",
              "      <td>12</td>\n",
              "      <td>0.032110</td>\n",
              "    </tr>\n",
              "    <tr>\n",
              "      <th>4</th>\n",
              "      <td>1</td>\n",
              "      <td>10.5</td>\n",
              "      <td>2014</td>\n",
              "      <td>8</td>\n",
              "      <td>21</td>\n",
              "      <td>3</td>\n",
              "      <td>17</td>\n",
              "      <td>0.025124</td>\n",
              "    </tr>\n",
              "  </tbody>\n",
              "</table>\n",
              "</div>\n",
              "      <button class=\"colab-df-convert\" onclick=\"convertToInteractive('df-0b0e182d-4e22-4c6c-8d93-09338ec778c6')\"\n",
              "              title=\"Convert this dataframe to an interactive table.\"\n",
              "              style=\"display:none;\">\n",
              "        \n",
              "  <svg xmlns=\"http://www.w3.org/2000/svg\" height=\"24px\"viewBox=\"0 0 24 24\"\n",
              "       width=\"24px\">\n",
              "    <path d=\"M0 0h24v24H0V0z\" fill=\"none\"/>\n",
              "    <path d=\"M18.56 5.44l.94 2.06.94-2.06 2.06-.94-2.06-.94-.94-2.06-.94 2.06-2.06.94zm-11 1L8.5 8.5l.94-2.06 2.06-.94-2.06-.94L8.5 2.5l-.94 2.06-2.06.94zm10 10l.94 2.06.94-2.06 2.06-.94-2.06-.94-.94-2.06-.94 2.06-2.06.94z\"/><path d=\"M17.41 7.96l-1.37-1.37c-.4-.4-.92-.59-1.43-.59-.52 0-1.04.2-1.43.59L10.3 9.45l-7.72 7.72c-.78.78-.78 2.05 0 2.83L4 21.41c.39.39.9.59 1.41.59.51 0 1.02-.2 1.41-.59l7.78-7.78 2.81-2.81c.8-.78.8-2.07 0-2.86zM5.41 20L4 18.59l7.72-7.72 1.47 1.35L5.41 20z\"/>\n",
              "  </svg>\n",
              "      </button>\n",
              "      \n",
              "  <style>\n",
              "    .colab-df-container {\n",
              "      display:flex;\n",
              "      flex-wrap:wrap;\n",
              "      gap: 12px;\n",
              "    }\n",
              "\n",
              "    .colab-df-convert {\n",
              "      background-color: #E8F0FE;\n",
              "      border: none;\n",
              "      border-radius: 50%;\n",
              "      cursor: pointer;\n",
              "      display: none;\n",
              "      fill: #1967D2;\n",
              "      height: 32px;\n",
              "      padding: 0 0 0 0;\n",
              "      width: 32px;\n",
              "    }\n",
              "\n",
              "    .colab-df-convert:hover {\n",
              "      background-color: #E2EBFA;\n",
              "      box-shadow: 0px 1px 2px rgba(60, 64, 67, 0.3), 0px 1px 3px 1px rgba(60, 64, 67, 0.15);\n",
              "      fill: #174EA6;\n",
              "    }\n",
              "\n",
              "    [theme=dark] .colab-df-convert {\n",
              "      background-color: #3B4455;\n",
              "      fill: #D2E3FC;\n",
              "    }\n",
              "\n",
              "    [theme=dark] .colab-df-convert:hover {\n",
              "      background-color: #434B5C;\n",
              "      box-shadow: 0px 1px 3px 1px rgba(0, 0, 0, 0.15);\n",
              "      filter: drop-shadow(0px 1px 2px rgba(0, 0, 0, 0.3));\n",
              "      fill: #FFFFFF;\n",
              "    }\n",
              "  </style>\n",
              "\n",
              "      <script>\n",
              "        const buttonEl =\n",
              "          document.querySelector('#df-0b0e182d-4e22-4c6c-8d93-09338ec778c6 button.colab-df-convert');\n",
              "        buttonEl.style.display =\n",
              "          google.colab.kernel.accessAllowed ? 'block' : 'none';\n",
              "\n",
              "        async function convertToInteractive(key) {\n",
              "          const element = document.querySelector('#df-0b0e182d-4e22-4c6c-8d93-09338ec778c6');\n",
              "          const dataTable =\n",
              "            await google.colab.kernel.invokeFunction('convertToInteractive',\n",
              "                                                     [key], {});\n",
              "          if (!dataTable) return;\n",
              "\n",
              "          const docLinkHtml = 'Like what you see? Visit the ' +\n",
              "            '<a target=\"_blank\" href=https://colab.research.google.com/notebooks/data_table.ipynb>data table notebook</a>'\n",
              "            + ' to learn more about interactive tables.';\n",
              "          element.innerHTML = '';\n",
              "          dataTable['output_type'] = 'display_data';\n",
              "          await google.colab.output.renderOutput(dataTable, element);\n",
              "          const docLink = document.createElement('div');\n",
              "          docLink.innerHTML = docLinkHtml;\n",
              "          element.appendChild(docLink);\n",
              "        }\n",
              "      </script>\n",
              "    </div>\n",
              "  </div>\n",
              "  "
            ]
          },
          "metadata": {},
          "execution_count": 17
        }
      ]
    },
    {
      "cell_type": "markdown",
      "source": [
        "<p><h2><b>Data Analysis</b></h2></p>"
      ],
      "metadata": {
        "id": "UA_vJAtufHTa"
      }
    },
    {
      "cell_type": "code",
      "source": [
        "df['passenger_count'].value_counts(normalize = True).plot.bar(color='blue')\n",
        "plt.xticks(rotation = 0)"
      ],
      "metadata": {
        "id": "F3XsnhvKfp7D",
        "colab": {
          "base_uri": "https://localhost:8080/",
          "height": 552
        },
        "outputId": "a810b080-fe8e-4904-b0ef-9546911e3d1b"
      },
      "execution_count": 18,
      "outputs": [
        {
          "output_type": "execute_result",
          "data": {
            "text/plain": [
              "(array([0, 1, 2, 3, 4, 5]),\n",
              " [Text(0, 0, '1'),\n",
              "  Text(1, 0, '2'),\n",
              "  Text(2, 0, '5'),\n",
              "  Text(3, 0, '3'),\n",
              "  Text(4, 0, '4'),\n",
              "  Text(5, 0, '6')])"
            ]
          },
          "metadata": {},
          "execution_count": 18
        },
        {
          "output_type": "display_data",
          "data": {
            "text/plain": [
              "<Figure size 640x480 with 1 Axes>"
            ],
            "image/png": "[encoded data removed]"
          },
          "metadata": {}
        }
      ]
    },
    {
      "cell_type": "markdown",
      "source": [
        "**Observation :**\n",
        "\n",
        "Almost 70% of trips had only 1 passanger"
      ],
      "metadata": {
        "id": "sjei0yojgDDc"
      }
    },
    {
      "cell_type": "code",
      "source": [
        "hour=df['hour'].value_counts()\n",
        "hour.plot(kind='bar',figsize=(5,5))\n",
        "plt.xlabel('hour')\n",
        "plt.ylabel('count')\n",
        "plt.title('Number of trips vs hours')"
      ],
      "metadata": {
        "id": "EnuTJvkahzyP",
        "colab": {
          "base_uri": "https://localhost:8080/",
          "height": 508
        },
        "outputId": "3fdaed91-1c32-45a1-9534-1b171bc73190"
      },
      "execution_count": 19,
      "outputs": [
        {
          "output_type": "execute_result",
          "data": {
            "text/plain": [
              "Text(0.5, 1.0, 'Number of trips vs hours')"
            ]
          },
          "metadata": {},
          "execution_count": 19
        },
        {
          "output_type": "display_data",
          "data": {
            "text/plain": [
              "<Figure size 500x500 with 1 Axes>"
            ],
            "image/png": "[encoded data removed]"
          },
          "metadata": {}
        }
      ]
    },
    {
      "cell_type": "markdown",
      "source": [
        "**Observation:**\n",
        "\n",
        "As expected, the number of trips are low during 1am - 6am, and peak between 7pm - 9pm\n",
        "\n",
        "We can clearly see that during weekdays, peak hours are during the day while on weekends, peak hours are late in the night"
      ],
      "metadata": {
        "id": "h1XwmLM6iVmB"
      }
    },
    {
      "cell_type": "code",
      "source": [
        "DayWeek=df['day_of_week'].value_counts()\n",
        "DayWeek.plot(kind='bar',figsize=(5,5))\n",
        "plt.xlabel('Day of Week')\n",
        "plt.ylabel('count')\n",
        "plt.title('Number of trips vs weekdays')"
      ],
      "metadata": {
        "id": "lR0pOZvGil00",
        "colab": {
          "base_uri": "https://localhost:8080/",
          "height": 499
        },
        "outputId": "6c72b536-9025-4b99-b0fc-456d6ef30eff"
      },
      "execution_count": 20,
      "outputs": [
        {
          "output_type": "execute_result",
          "data": {
            "text/plain": [
              "Text(0.5, 1.0, 'Number of trips vs weekdays')"
            ]
          },
          "metadata": {},
          "execution_count": 20
        },
        {
          "output_type": "display_data",
          "data": {
            "text/plain": [
              "<Figure size 500x500 with 1 Axes>"
            ],
            "image/png": "[encoded data removed]"
          },
          "metadata": {}
        }
      ]
    },
    {
      "cell_type": "markdown",
      "source": [
        "**Observation:**\n",
        "\n",
        "As expected, Friday (weekend eve) and Saturday had the highest number of trips"
      ],
      "metadata": {
        "id": "x0Ftj4KgjRV0"
      }
    },
    {
      "cell_type": "code",
      "source": [
        "table = pd.pivot_table(data=df,index=['passenger_count','day_of_week'],values=['travel_distance','fare_amount'])\n",
        "table\n",
        "sns.scatterplot(data=table, x=\"travel_distance\", y=\"fare_amount\",hue='day_of_week', palette='Paired_r')"
      ],
      "metadata": {
        "id": "FxwL2OsKjKPX",
        "colab": {
          "base_uri": "https://localhost:8080/",
          "height": 467
        },
        "outputId": "1fd00271-bb68-4357-fb79-deaae0512a32"
      },
      "execution_count": 21,
      "outputs": [
        {
          "output_type": "execute_result",
          "data": {
            "text/plain": [
              "<Axes: xlabel='travel_distance', ylabel='fare_amount'>"
            ]
          },
          "metadata": {},
          "execution_count": 21
        },
        {
          "output_type": "display_data",
          "data": {
            "text/plain": [
              "<Figure size 640x480 with 1 Axes>"
            ],
            "image/png": "[encoded data removed]"
          },
          "metadata": {}
        }
      ]
    },
    {
      "cell_type": "markdown",
      "source": [
        "**Observation :**\n",
        "\n",
        "Generally, as distance increases, the fare amount also increases with a few sporadic inconsistencies"
      ],
      "metadata": {
        "id": "8Ulfp9NenWWF"
      }
    },
    {
      "cell_type": "code",
      "source": [
        "df.hist(bins=15, figsize=(15, 10),color='blue')"
      ],
      "metadata": {
        "id": "qVARgNxgDiT7",
        "colab": {
          "base_uri": "https://localhost:8080/",
          "height": 966
        },
        "outputId": "455e42ec-e775-453e-e887-517a33fff799"
      },
      "execution_count": 22,
      "outputs": [
        {
          "output_type": "execute_result",
          "data": {
            "text/plain": [
              "array([[<Axes: title={'center': 'passenger_count'}>,\n",
              "        <Axes: title={'center': 'fare_amount'}>,\n",
              "        <Axes: title={'center': 'year'}>],\n",
              "       [<Axes: title={'center': 'month'}>,\n",
              "        <Axes: title={'center': 'day'}>,\n",
              "        <Axes: title={'center': 'day_of_week'}>],\n",
              "       [<Axes: title={'center': 'hour'}>,\n",
              "        <Axes: title={'center': 'travel_distance'}>, <Axes: >]],\n",
              "      dtype=object)"
            ]
          },
          "metadata": {},
          "execution_count": 22
        },
        {
          "output_type": "display_data",
          "data": {
            "text/plain": [
              "<Figure size 1500x1000 with 9 Axes>"
            ],
            "image/png": "[encoded data removed]"
          },
          "metadata": {}
        }
      ]
    },
    {
      "cell_type": "markdown",
      "metadata": {
        "id": "lw0N93vuT63t"
      },
      "source": [
        "<p><h1><b><font color='Darkblue'>Scaling</b></h1></p>\n",
        "\n",
        "Feature Scaling is required because of two reasons:\n",
        "\n",
        "* The data points are far from each other. This means that in some columns, the distance between data points is a lot\n",
        "* Some of the features have a unit while other features are unitless. Therefore, it is important to make all features unitless"
      ]
    },
    {
      "cell_type": "code",
      "execution_count": 23,
      "metadata": {
        "id": "0tSnwDxrru0A"
      },
      "outputs": [],
      "source": [
        "# Scale the features\n",
        "df_prescaled = df.copy()\n",
        "df_scaled = df.drop(['fare_amount'], axis = 1)\n",
        "df_scaled = scale(df_scaled)\n",
        "cols = df.columns.tolist()\n",
        "cols.remove('fare_amount')\n",
        "df_scaled = pd.DataFrame(df_scaled, columns = cols, index = df.index)\n",
        "df_scaled = pd.concat([df_scaled, df['fare_amount']], axis = 1)\n",
        "df = df_scaled.copy()"
      ]
    },
    {
      "cell_type": "code",
      "execution_count": 24,
      "metadata": {
        "id": "MN2XYjzwr6bi"
      },
      "outputs": [],
      "source": [
        "# Split the dataframe into a training and testing set\n",
        "X = df.loc[:, df.columns != 'fare_amount'] \n",
        "y = df.fare_amount\n",
        "X_train, X_test, y_train, y_test = train_test_split(X, y, test_size = 0.2)"
      ]
    },
    {
      "cell_type": "code",
      "source": [
        "# Quick sanity check with the shapes of Training and testing datasets\n",
        "print(X_train.shape)\n",
        "print(y_train.shape)\n",
        "print(X_test.shape)\n",
        "print(y_test.shape)"
      ],
      "metadata": {
        "colab": {
          "base_uri": "https://localhost:8080/"
        },
        "id": "X8_pisBKafXa",
        "outputId": "620cfcf0-5d91-4971-a4d0-e60a32e51989"
      },
      "execution_count": 25,
      "outputs": [
        {
          "output_type": "stream",
          "name": "stdout",
          "text": [
            "(95941, 7)\n",
            "(95941,)\n",
            "(23986, 7)\n",
            "(23986,)\n"
          ]
        }
      ]
    },
    {
      "cell_type": "markdown",
      "metadata": {
        "id": "uMBxpJ2EQ0-G"
      },
      "source": [
        "<p><h1><b><font color='DarkBlue'>Model Creation</b></h></p>"
      ]
    },
    {
      "cell_type": "code",
      "execution_count": 26,
      "metadata": {
        "id": "wM2Jr5LasRtK"
      },
      "outputs": [],
      "source": [
        "from keras.models import Sequential\n",
        "from keras.layers import Dense\n",
        "from keras.layers import BatchNormalization\n",
        "from sklearn.metrics import mean_squared_error\n",
        "from keras.layers import Dropout"
      ]
    },
    {
      "cell_type": "code",
      "execution_count": 48,
      "metadata": {
        "id": "kSxPfS-h-uuw"
      },
      "outputs": [],
      "source": [
        "learning_rate = 0.001\n",
        "\n",
        "# Creating model using the Sequential in tensorflow\n",
        "#model creation\n",
        "\n",
        "model_D = keras.models.Sequential([\n",
        " keras.layers.Dense(units=160,kernel_initializer='normal', activation='relu',input_dim=X_train.shape[1]),\n",
        " Dropout(0.2),\n",
        " keras.layers.Dense(units=480,kernel_initializer='normal', activation='relu'),\n",
        " Dropout(0.2),\n",
        " keras.layers.Dense(units=256,kernel_initializer='normal', activation='relu'),\n",
        " keras.layers.Dense(units=1,kernel_initializer='normal', activation='linear')])"
      ]
    },
    {
      "cell_type": "code",
      "source": [
        "model_D.summary()"
      ],
      "metadata": {
        "colab": {
          "base_uri": "https://localhost:8080/"
        },
        "id": "hpbj6tJ9CI9E",
        "outputId": "f93c4569-c131-4c93-a44c-397b706ea9b4"
      },
      "execution_count": 28,
      "outputs": [
        {
          "output_type": "stream",
          "name": "stdout",
          "text": [
            "Model: \"sequential\"\n",
            "_________________________________________________________________\n",
            " Layer (type)                Output Shape              Param #   \n",
            "=================================================================\n",
            " dense (Dense)               (None, 160)               1280      \n",
            "                                                                 \n",
            " dropout (Dropout)           (None, 160)               0         \n",
            "                                                                 \n",
            " dense_1 (Dense)             (None, 480)               77280     \n",
            "                                                                 \n",
            " dropout_1 (Dropout)         (None, 480)               0         \n",
            "                                                                 \n",
            " dense_2 (Dense)             (None, 256)               123136    \n",
            "                                                                 \n",
            " dense_3 (Dense)             (None, 1)                 257       \n",
            "                                                                 \n",
            "=================================================================\n",
            "Total params: 201,953\n",
            "Trainable params: 201,953\n",
            "Non-trainable params: 0\n",
            "_________________________________________________________________\n"
          ]
        }
      ]
    },
    {
      "cell_type": "code",
      "execution_count": 29,
      "metadata": {
        "id": "hpflJmVy-6tU"
      },
      "outputs": [],
      "source": [
        "from keras.losses import MeanSquaredLogarithmicError\n",
        "from keras.optimizers import Adam\n",
        "msle = MeanSquaredLogarithmicError()"
      ]
    },
    {
      "cell_type": "code",
      "source": [
        "#model compilation\n",
        "\n",
        "model_D.compile(loss=msle, optimizer=Adam(learning_rate=learning_rate), metrics=['mse'])"
      ],
      "metadata": {
        "id": "99D8wIFgB6e7"
      },
      "execution_count": 52,
      "outputs": []
    },
    {
      "cell_type": "code",
      "execution_count": 53,
      "metadata": {
        "id": "HozDmQ_7_BPs",
        "colab": {
          "base_uri": "https://localhost:8080/"
        },
        "outputId": "79db9ad3-d676-4620-ddf9-aaa7f3c3ec17"
      },
      "outputs": [
        {
          "output_type": "stream",
          "name": "stdout",
          "text": [
            "Epoch 1/10\n",
            "132/132 [==============================] - 5s 30ms/step - loss: 0.2811 - mse: 88.3390 - val_loss: 0.2721 - val_mse: 85.3350\n",
            "Epoch 2/10\n",
            "132/132 [==============================] - 4s 28ms/step - loss: 0.2640 - mse: 84.7310 - val_loss: 0.2380 - val_mse: 78.0017\n",
            "Epoch 3/10\n",
            "132/132 [==============================] - 5s 36ms/step - loss: 0.2186 - mse: 74.1287 - val_loss: 0.1575 - val_mse: 62.9677\n",
            "Epoch 4/10\n",
            "132/132 [==============================] - 3s 26ms/step - loss: 0.1563 - mse: 55.9255 - val_loss: 0.1192 - val_mse: 48.2480\n",
            "Epoch 5/10\n",
            "132/132 [==============================] - 4s 27ms/step - loss: 0.1126 - mse: 38.6895 - val_loss: 0.0913 - val_mse: 32.9313\n",
            "Epoch 6/10\n",
            "132/132 [==============================] - 4s 33ms/step - loss: 0.0990 - mse: 32.2280 - val_loss: 0.0878 - val_mse: 30.6739\n",
            "Epoch 7/10\n",
            "132/132 [==============================] - 4s 29ms/step - loss: 0.0934 - mse: 29.5245 - val_loss: 0.0816 - val_mse: 27.0925\n",
            "Epoch 8/10\n",
            "132/132 [==============================] - 4s 27ms/step - loss: 0.0898 - mse: 27.5613 - val_loss: 0.0795 - val_mse: 24.6720\n",
            "Epoch 9/10\n",
            "132/132 [==============================] - 4s 27ms/step - loss: 0.0868 - mse: 26.1720 - val_loss: 0.0793 - val_mse: 25.6852\n",
            "Epoch 10/10\n",
            "132/132 [==============================] - 5s 35ms/step - loss: 0.0855 - mse: 25.6266 - val_loss: 0.0766 - val_mse: 24.4027\n"
          ]
        }
      ],
      "source": [
        "#fitting the model\n",
        "\n",
        "history = model_D.fit(X_train,y_train, epochs=10, batch_size=512,validation_split=0.3)"
      ]
    },
    {
      "cell_type": "code",
      "execution_count": 54,
      "metadata": {
        "id": "LQVWybVRkejM"
      },
      "outputs": [],
      "source": [
        "# from keras.utils.vis_utils import plot_model\n",
        "# plot_model(model_D, to_file='model_plot.png', show_shapes=True, show_layer_names=True)"
      ]
    },
    {
      "cell_type": "markdown",
      "metadata": {
        "id": "cWJclAJYTOKc"
      },
      "source": [
        "<p><h2><b><font color= 'DarkBlue'>Results</b></h2></p>"
      ]
    },
    {
      "cell_type": "code",
      "execution_count": 55,
      "metadata": {
        "colab": {
          "base_uri": "https://localhost:8080/"
        },
        "outputId": "901b20eb-025e-4434-b9dd-010892b4c7b6",
        "id": "8KpduGk22s7g"
      },
      "outputs": [
        {
          "output_type": "stream",
          "name": "stdout",
          "text": [
            "2999/2999 [==============================] - 7s 2ms/step\n",
            "750/750 [==============================] - 2s 3ms/step\n",
            "Train R2 Score: 0.72\n",
            "Test R2 Score: 0.73\n",
            "Train RMSE: 4.96\n",
            "Test RMSE: 4.97\n"
          ]
        }
      ],
      "source": [
        "# Results\n",
        "train_pred = model_D.predict(X_train)\n",
        "train_rmse = np.sqrt(mean_squared_error(y_train, train_pred))\n",
        "test_pred = model_D.predict(X_test)\n",
        "test_rmse = np.sqrt(mean_squared_error(y_test, test_pred))\n",
        "\n",
        "from sklearn.metrics import r2_score\n",
        "train_r2_Score = r2_score(y_train,train_pred) \n",
        "print(\"Train R2 Score: {:0.2f}\".format(train_r2_Score))\n",
        "\n",
        "test_r2_Score = r2_score(y_test,test_pred) \n",
        "print(\"Test R2 Score: {:0.2f}\".format(test_r2_Score))\n",
        "\n",
        "print(\"Train RMSE: {:0.2f}\".format(train_rmse))\n",
        "print(\"Test RMSE: {:0.2f}\".format(test_rmse))"
      ]
    },
    {
      "cell_type": "markdown",
      "metadata": {
        "id": "Nsgx4IHDU9lp"
      },
      "source": [
        "<p><h1><b><font color='Darkblue'>Prediction</b></h1></p>"
      ]
    },
    {
      "cell_type": "code",
      "execution_count": 34,
      "metadata": {
        "id": "cN8yskNUsibF",
        "colab": {
          "base_uri": "https://localhost:8080/"
        },
        "outputId": "802896f6-51c6-431d-e06e-af8889f66499"
      },
      "outputs": [
        {
          "output_type": "stream",
          "name": "stdout",
          "text": [
            "1/1 [==============================] - 0s 27ms/step\n",
            "Trip Details: Tuesday, 12:00hrs\n",
            "Actual fare: $8.50\n",
            "Predicted fare: $8.75\n",
            "RMSE: $0.25\n"
          ]
        }
      ],
      "source": [
        "def predict_random(df_prescaled, X_test, model):\n",
        "    sample = X_test.sample(n = 1, random_state = np.random.randint(low = 0, high = 10000))\n",
        "    idx = sample.index[0]\n",
        "\n",
        "    actual_fare = df_prescaled.loc[idx,'fare_amount']\n",
        "    day_names = ['Monday', 'Tuesday', 'Wednesday', 'Thursday', 'Friday', 'Saturday', 'Sunday']\n",
        "    day_of_week = day_names[df_prescaled.loc[idx,'day_of_week']]\n",
        "    hour = df_prescaled.loc[idx,'hour']\n",
        "    predicted_fare = model.predict(sample)[0][0]\n",
        "    rmse = np.sqrt(np.square(predicted_fare - actual_fare))\n",
        "\n",
        "    print(\"Trip Details: {}, {}:00hrs\".format(day_of_week, hour))  \n",
        "    print(\"Actual fare: ${:0.2f}\".format(actual_fare))\n",
        "    print(\"Predicted fare: ${:0.2f}\".format(predicted_fare))\n",
        "    print(\"RMSE: ${:0.2f}\".format(rmse))\n",
        "\n",
        "predict_random(df_prescaled, X_test, model_D)"
      ]
    },
    {
      "cell_type": "markdown",
      "source": [
        "**=============================================================================================================**"
      ],
      "metadata": {
        "id": "KGQKljEsqnVR"
      }
    }
  ],
  "metadata": {
    "colab": {
      "provenance": []
    },
    "kernelspec": {
      "display_name": "Python 3",
      "name": "python3"
    },
    "language_info": {
      "name": "python"
    }
  },
  "nbformat": 4,
  "nbformat_minor": 0
}